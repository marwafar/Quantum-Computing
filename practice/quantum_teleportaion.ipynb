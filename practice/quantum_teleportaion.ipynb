{
 "cells": [
  {
   "cell_type": "code",
   "execution_count": 1,
   "metadata": {},
   "outputs": [],
   "source": [
    "from qiskit import *\n",
    "%matplotlib inline"
   ]
  },
  {
   "cell_type": "code",
   "execution_count": 2,
   "metadata": {},
   "outputs": [],
   "source": [
    "circuit=QuantumCircuit(3,3)"
   ]
  },
  {
   "cell_type": "code",
   "execution_count": 3,
   "metadata": {},
   "outputs": [
    {
     "data": {
      "text/html": [
       "<pre style=\"word-wrap: normal;white-space: pre;background: #fff0;line-height: 1.1;font-family: &quot;Courier New&quot;,Courier,monospace\">     ┌───┐ ░ \n",
       "q_0: ┤ X ├─░─\n",
       "     └───┘ ░ \n",
       "q_1: ──────░─\n",
       "           ░ \n",
       "q_2: ──────░─\n",
       "           ░ \n",
       "c: 3/════════\n",
       "             </pre>"
      ],
      "text/plain": [
       "     ┌───┐ ░ \n",
       "q_0: ┤ X ├─░─\n",
       "     └───┘ ░ \n",
       "q_1: ──────░─\n",
       "           ░ \n",
       "q_2: ──────░─\n",
       "           ░ \n",
       "c: 3/════════\n",
       "             "
      ]
     },
     "execution_count": 3,
     "metadata": {},
     "output_type": "execute_result"
    }
   ],
   "source": [
    "circuit.x(0)\n",
    "circuit.barrier()\n",
    "circuit.draw()"
   ]
  },
  {
   "cell_type": "code",
   "execution_count": 4,
   "metadata": {},
   "outputs": [
    {
     "data": {
      "text/html": [
       "<pre style=\"word-wrap: normal;white-space: pre;background: #fff0;line-height: 1.1;font-family: &quot;Courier New&quot;,Courier,monospace\">     ┌───┐ ░            ░ \n",
       "q_0: ┤ X ├─░────────────░─\n",
       "     └───┘ ░ ┌───┐      ░ \n",
       "q_1: ──────░─┤ H ├──■───░─\n",
       "           ░ └───┘┌─┴─┐ ░ \n",
       "q_2: ──────░──────┤ X ├─░─\n",
       "           ░      └───┘ ░ \n",
       "c: 3/═════════════════════\n",
       "                          </pre>"
      ],
      "text/plain": [
       "     ┌───┐ ░            ░ \n",
       "q_0: ┤ X ├─░────────────░─\n",
       "     └───┘ ░ ┌───┐      ░ \n",
       "q_1: ──────░─┤ H ├──■───░─\n",
       "           ░ └───┘┌─┴─┐ ░ \n",
       "q_2: ──────░──────┤ X ├─░─\n",
       "           ░      └───┘ ░ \n",
       "c: 3/═════════════════════\n",
       "                          "
      ]
     },
     "execution_count": 4,
     "metadata": {},
     "output_type": "execute_result"
    }
   ],
   "source": [
    "circuit.h(1)\n",
    "circuit.cx(1,2)\n",
    "circuit.barrier()\n",
    "circuit.draw()"
   ]
  },
  {
   "cell_type": "code",
   "execution_count": 5,
   "metadata": {},
   "outputs": [
    {
     "data": {
      "text/html": [
       "<pre style=\"word-wrap: normal;white-space: pre;background: #fff0;line-height: 1.1;font-family: &quot;Courier New&quot;,Courier,monospace\">     ┌───┐ ░            ░      ┌───┐ ░ \n",
       "q_0: ┤ X ├─░────────────░───■──┤ H ├─░─\n",
       "     └───┘ ░ ┌───┐      ░ ┌─┴─┐└───┘ ░ \n",
       "q_1: ──────░─┤ H ├──■───░─┤ X ├──────░─\n",
       "           ░ └───┘┌─┴─┐ ░ └───┘      ░ \n",
       "q_2: ──────░──────┤ X ├─░────────────░─\n",
       "           ░      └───┘ ░            ░ \n",
       "c: 3/══════════════════════════════════\n",
       "                                       </pre>"
      ],
      "text/plain": [
       "     ┌───┐ ░            ░      ┌───┐ ░ \n",
       "q_0: ┤ X ├─░────────────░───■──┤ H ├─░─\n",
       "     └───┘ ░ ┌───┐      ░ ┌─┴─┐└───┘ ░ \n",
       "q_1: ──────░─┤ H ├──■───░─┤ X ├──────░─\n",
       "           ░ └───┘┌─┴─┐ ░ └───┘      ░ \n",
       "q_2: ──────░──────┤ X ├─░────────────░─\n",
       "           ░      └───┘ ░            ░ \n",
       "c: 3/══════════════════════════════════\n",
       "                                       "
      ]
     },
     "execution_count": 5,
     "metadata": {},
     "output_type": "execute_result"
    }
   ],
   "source": [
    "circuit.cx(0,1)\n",
    "circuit.h(0)\n",
    "circuit.barrier()\n",
    "circuit.draw()"
   ]
  },
  {
   "cell_type": "code",
   "execution_count": 6,
   "metadata": {},
   "outputs": [
    {
     "data": {
      "text/html": [
       "<pre style=\"word-wrap: normal;white-space: pre;background: #fff0;line-height: 1.1;font-family: &quot;Courier New&quot;,Courier,monospace\">     ┌───┐ ░            ░      ┌───┐ ░ ┌─┐    ░ \n",
       "q_0: ┤ X ├─░────────────░───■──┤ H ├─░─┤M├────░─\n",
       "     └───┘ ░ ┌───┐      ░ ┌─┴─┐└───┘ ░ └╥┘┌─┐ ░ \n",
       "q_1: ──────░─┤ H ├──■───░─┤ X ├──────░──╫─┤M├─░─\n",
       "           ░ └───┘┌─┴─┐ ░ └───┘      ░  ║ └╥┘ ░ \n",
       "q_2: ──────░──────┤ X ├─░────────────░──╫──╫──░─\n",
       "           ░      └───┘ ░            ░  ║  ║  ░ \n",
       "c: 3/═══════════════════════════════════╩══╩════\n",
       "                                        0  1    </pre>"
      ],
      "text/plain": [
       "     ┌───┐ ░            ░      ┌───┐ ░ ┌─┐    ░ \n",
       "q_0: ┤ X ├─░────────────░───■──┤ H ├─░─┤M├────░─\n",
       "     └───┘ ░ ┌───┐      ░ ┌─┴─┐└───┘ ░ └╥┘┌─┐ ░ \n",
       "q_1: ──────░─┤ H ├──■───░─┤ X ├──────░──╫─┤M├─░─\n",
       "           ░ └───┘┌─┴─┐ ░ └───┘      ░  ║ └╥┘ ░ \n",
       "q_2: ──────░──────┤ X ├─░────────────░──╫──╫──░─\n",
       "           ░      └───┘ ░            ░  ║  ║  ░ \n",
       "c: 3/═══════════════════════════════════╩══╩════\n",
       "                                        0  1    "
      ]
     },
     "execution_count": 6,
     "metadata": {},
     "output_type": "execute_result"
    }
   ],
   "source": [
    "circuit.measure(0,0)\n",
    "circuit.measure(1,1)\n",
    "circuit.barrier()\n",
    "circuit.draw()"
   ]
  },
  {
   "cell_type": "code",
   "execution_count": 7,
   "metadata": {},
   "outputs": [
    {
     "data": {
      "text/html": [
       "<pre style=\"word-wrap: normal;white-space: pre;background: #fff0;line-height: 1.1;font-family: &quot;Courier New&quot;,Courier,monospace\">     ┌───┐ ░            ░      ┌───┐ ░ ┌─┐    ░         \n",
       "q_0: ┤ X ├─░────────────░───■──┤ H ├─░─┤M├────░───────■─\n",
       "     └───┘ ░ ┌───┐      ░ ┌─┴─┐└───┘ ░ └╥┘┌─┐ ░       │ \n",
       "q_1: ──────░─┤ H ├──■───░─┤ X ├──────░──╫─┤M├─░───■───┼─\n",
       "           ░ └───┘┌─┴─┐ ░ └───┘      ░  ║ └╥┘ ░ ┌─┴─┐ │ \n",
       "q_2: ──────░──────┤ X ├─░────────────░──╫──╫──░─┤ X ├─■─\n",
       "           ░      └───┘ ░            ░  ║  ║  ░ └───┘   \n",
       "c: 3/═══════════════════════════════════╩══╩════════════\n",
       "                                        0  1            </pre>"
      ],
      "text/plain": [
       "     ┌───┐ ░            ░      ┌───┐ ░ ┌─┐    ░         \n",
       "q_0: ┤ X ├─░────────────░───■──┤ H ├─░─┤M├────░───────■─\n",
       "     └───┘ ░ ┌───┐      ░ ┌─┴─┐└───┘ ░ └╥┘┌─┐ ░       │ \n",
       "q_1: ──────░─┤ H ├──■───░─┤ X ├──────░──╫─┤M├─░───■───┼─\n",
       "           ░ └───┘┌─┴─┐ ░ └───┘      ░  ║ └╥┘ ░ ┌─┴─┐ │ \n",
       "q_2: ──────░──────┤ X ├─░────────────░──╫──╫──░─┤ X ├─■─\n",
       "           ░      └───┘ ░            ░  ║  ║  ░ └───┘   \n",
       "c: 3/═══════════════════════════════════╩══╩════════════\n",
       "                                        0  1            "
      ]
     },
     "execution_count": 7,
     "metadata": {},
     "output_type": "execute_result"
    }
   ],
   "source": [
    "circuit.cx(1,2)\n",
    "circuit.cz(0,2)\n",
    "circuit.draw()"
   ]
  },
  {
   "cell_type": "code",
   "execution_count": 8,
   "metadata": {},
   "outputs": [
    {
     "data": {
      "image/png": "[encoded data removed]",
      "text/plain": [
       "<Figure size 504x360 with 1 Axes>"
      ]
     },
     "execution_count": 8,
     "metadata": {},
     "output_type": "execute_result"
    }
   ],
   "source": [
    "circuit.measure(2,2)\n",
    "simulator=Aer.get_backend('qasm_simulator')\n",
    "job=execute(circuit, backend=simulator, shots=1024)\n",
    "result=job.result()\n",
    "counts=result.get_counts()\n",
    "from qiskit.tools.visualization import plot_histogram\n",
    "plot_histogram(counts)"
   ]
  },
  {
   "cell_type": "code",
   "execution_count": null,
   "metadata": {},
   "outputs": [],
   "source": []
  }
 ],
 "metadata": {
  "kernelspec": {
   "display_name": "Python 3",
   "language": "python",
   "name": "python3"
  },
  "language_info": {
   "codemirror_mode": {
    "name": "ipython",
    "version": 3
   },
   "file_extension": ".py",
   "mimetype": "text/x-python",
   "name": "python",
   "nbconvert_exporter": "python",
   "pygments_lexer": "ipython3",
   "version": "3.7.7"
  }
 },
 "nbformat": 4,
 "nbformat_minor": 4
}
