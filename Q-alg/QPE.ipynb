{
 "cells": [
  {
   "cell_type": "code",
   "execution_count": 34,
   "metadata": {},
   "outputs": [],
   "source": [
    "import numpy as np\n",
    "from qiskit import *\n",
    "from qiskit.visualization import plot_histogram"
   ]
  },
  {
   "cell_type": "code",
   "execution_count": 35,
   "metadata": {},
   "outputs": [
    {
     "data": {
      "text/html": [
       "<pre style=\"word-wrap: normal;white-space: pre;background: #fff0;line-height: 1.1;font-family: &quot;Courier New&quot;,Courier,monospace\">     ┌───┐                                                                  »\n",
       "q_0: ┤ H ├─────■────────────────────────────────────────────────────────────»\n",
       "     ├───┤     │                                                            »\n",
       "q_1: ┤ H ├─────┼──────────■──────────■──────────────────────────────────────»\n",
       "     ├───┤     │          │          │                                      »\n",
       "q_2: ┤ H ├─────┼──────────┼──────────┼──────────■──────────■──────────■─────»\n",
       "     ├───┤┌────┴────┐┌────┴────┐┌────┴────┐┌────┴────┐┌────┴────┐┌────┴────┐»\n",
       "q_3: ┤ X ├┤ P(2π/3) ├┤ P(2π/3) ├┤ P(2π/3) ├┤ P(2π/3) ├┤ P(2π/3) ├┤ P(2π/3) ├»\n",
       "     └───┘└─────────┘└─────────┘└─────────┘└─────────┘└─────────┘└─────────┘»\n",
       "c: 3/═══════════════════════════════════════════════════════════════════════»\n",
       "                                                                            »\n",
       "«                   ┌───┐                                      ┌─┐           \n",
       "«q_0: ────────────X─┤ H ├─────■───────────────■────────────────┤M├───────────\n",
       "«                 │ └───┘┌────┴────┐┌───┐     │                └╥┘     ┌─┐   \n",
       "«q_1: ────────────┼──────┤ P(-π/2) ├┤ H ├─────┼──────────■──────╫──────┤M├───\n",
       "«                 │      └─────────┘└───┘┌────┴────┐┌────┴────┐ ║ ┌───┐└╥┘┌─┐\n",
       "«q_2: ─────■──────X──────────────────────┤ P(-π/4) ├┤ P(-π/2) ├─╫─┤ H ├─╫─┤M├\n",
       "«     ┌────┴────┐                        └─────────┘└─────────┘ ║ └───┘ ║ └╥┘\n",
       "«q_3: ┤ P(2π/3) ├───────────────────────────────────────────────╫───────╫──╫─\n",
       "«     └─────────┘                                               ║       ║  ║ \n",
       "«c: 3/══════════════════════════════════════════════════════════╩═══════╩══╩═\n",
       "«                                                               0       1  2 </pre>"
      ],
      "text/plain": [
       "     ┌───┐                                                                  »\n",
       "q_0: ┤ H ├─────■────────────────────────────────────────────────────────────»\n",
       "     ├───┤     │                                                            »\n",
       "q_1: ┤ H ├─────┼──────────■──────────■──────────────────────────────────────»\n",
       "     ├───┤     │          │          │                                      »\n",
       "q_2: ┤ H ├─────┼──────────┼──────────┼──────────■──────────■──────────■─────»\n",
       "     ├───┤┌────┴────┐┌────┴────┐┌────┴────┐┌────┴────┐┌────┴────┐┌────┴────┐»\n",
       "q_3: ┤ X ├┤ P(2π/3) ├┤ P(2π/3) ├┤ P(2π/3) ├┤ P(2π/3) ├┤ P(2π/3) ├┤ P(2π/3) ├»\n",
       "     └───┘└─────────┘└─────────┘└─────────┘└─────────┘└─────────┘└─────────┘»\n",
       "c: 3/═══════════════════════════════════════════════════════════════════════»\n",
       "                                                                            »\n",
       "«                   ┌───┐                                      ┌─┐           \n",
       "«q_0: ────────────X─┤ H ├─────■───────────────■────────────────┤M├───────────\n",
       "«                 │ └───┘┌────┴────┐┌───┐     │                └╥┘     ┌─┐   \n",
       "«q_1: ────────────┼──────┤ P(-π/2) ├┤ H ├─────┼──────────■──────╫──────┤M├───\n",
       "«                 │      └─────────┘└───┘┌────┴────┐┌────┴────┐ ║ ┌───┐└╥┘┌─┐\n",
       "«q_2: ─────■──────X──────────────────────┤ P(-π/4) ├┤ P(-π/2) ├─╫─┤ H ├─╫─┤M├\n",
       "«     ┌────┴────┐                        └─────────┘└─────────┘ ║ └───┘ ║ └╥┘\n",
       "«q_3: ┤ P(2π/3) ├───────────────────────────────────────────────╫───────╫──╫─\n",
       "«     └─────────┘                                               ║       ║  ║ \n",
       "«c: 3/══════════════════════════════════════════════════════════╩═══════╩══╩═\n",
       "«                                                               0       1  2 "
      ]
     },
     "execution_count": 35,
     "metadata": {},
     "output_type": "execute_result"
    }
   ],
   "source": [
    "def swap_circuit(cc,n):\n",
    "    for qubit in range(n//2):\n",
    "        cc.swap(qubit,n-1-qubit)\n",
    "        \n",
    "def rot_qubit(cc,n):\n",
    "    for j in range(n):\n",
    "        for m in range(j):\n",
    "            cc.cp(-np.pi/float(2**(j-m)), m, j)\n",
    "        cc.h(j)\n",
    "          \n",
    "def qft_degger(qc,n):\n",
    "    \n",
    "    swap_circuit(qc,n-1)\n",
    "    rot_qubit(qc,n-1)\n",
    "\n",
    "def ancilla_circuit(qc,n):\n",
    "    \n",
    "    angle=2*np.pi/3.0\n",
    "\n",
    "    for qubit in range(n-1):\n",
    "        qc.h(qubit)\n",
    "    repition=1\n",
    "    for qubit in range(n-1):\n",
    "        for i in range(repition):\n",
    "            qc.cp(angle,qubit,n-1)\n",
    "        repition*=2\n",
    "    \n",
    "\n",
    "n_qubits=4\n",
    "qc=QuantumCircuit(n_qubits,3)\n",
    "qc.x(n_qubits-1)\n",
    "ancilla_circuit(qc,n_qubits)\n",
    "qft_degger(qc,n_qubits)\n",
    "qc.measure(range(n_qubits-1), range(n_qubits-1))\n",
    "qc.draw()"
   ]
  },
  {
   "cell_type": "code",
   "execution_count": 37,
   "metadata": {},
   "outputs": [
    {
     "data": {
      "image/png": "[encoded data removed]",
      "text/plain": [
       "<Figure size 504x360 with 1 Axes>"
      ]
     },
     "execution_count": 37,
     "metadata": {},
     "output_type": "execute_result"
    }
   ],
   "source": [
    "simulator=Aer.get_backend('qasm_simulator')\n",
    "job_c=execute(qc,backend=simulator,shots=4096)\n",
    "counts=job_c.result().get_counts()\n",
    "plot_histogram(counts)"
   ]
  },
  {
   "cell_type": "code",
   "execution_count": 51,
   "metadata": {},
   "outputs": [
    {
     "name": "stderr",
     "output_type": "stream",
     "text": [
      "ibmqfactory.load_account:WARNING:2021-03-05 06:50:55,764: Credentials are already in use. The existing account in the session will be replaced.\n"
     ]
    }
   ],
   "source": [
    "IBMQ.load_account()\n",
    "provider=IBMQ.get_provider('ibm-q')\n",
    "qcomp=provider.get_backend('ibmq_lima')\n",
    "job_q = execute(qc, backend=qcomp, shots=4096)"
   ]
  },
  {
   "cell_type": "code",
   "execution_count": 48,
   "metadata": {},
   "outputs": [
    {
     "name": "stdout",
     "output_type": "stream",
     "text": [
      "Job Status: job has successfully run\n"
     ]
    }
   ],
   "source": [
    "from qiskit.tools.monitor import job_monitor\n",
    "job_monitor(job_q)"
   ]
  },
  {
   "cell_type": "code",
   "execution_count": 50,
   "metadata": {},
   "outputs": [
    {
     "data": {
      "image/png": "[encoded data removed]",
      "text/plain": [
       "<Figure size 504x360 with 1 Axes>"
      ]
     },
     "execution_count": 50,
     "metadata": {},
     "output_type": "execute_result"
    }
   ],
   "source": [
    "result_q=job_q.result()\n",
    "plot_histogram(result_q.get_counts(qc))"
   ]
  },
  {
   "cell_type": "code",
   "execution_count": null,
   "metadata": {},
   "outputs": [],
   "source": []
  }
 ],
 "metadata": {
  "kernelspec": {
   "display_name": "Python 3",
   "language": "python",
   "name": "python3"
  },
  "language_info": {
   "codemirror_mode": {
    "name": "ipython",
    "version": 3
   },
   "file_extension": ".py",
   "mimetype": "text/x-python",
   "name": "python",
   "nbconvert_exporter": "python",
   "pygments_lexer": "ipython3",
   "version": "3.7.7"
  }
 },
 "nbformat": 4,
 "nbformat_minor": 4
}
