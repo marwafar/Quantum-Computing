{
 "cells": [
  {
   "cell_type": "code",
   "execution_count": 1,
   "metadata": {},
   "outputs": [],
   "source": [
    "import numpy as np\n",
    "from qiskit import *\n",
    "from qiskit.visualization import plot_histogram"
   ]
  },
  {
   "cell_type": "code",
   "execution_count": 2,
   "metadata": {},
   "outputs": [
    {
     "data": {
      "text/html": [
       "<pre style=\"word-wrap: normal;white-space: pre;background: #fff0;line-height: 1.1;font-family: &quot;Courier New&quot;,Courier,monospace\">     ┌───┐     ┌──────┐┌───┐┌─┐         \n",
       "q_0: ┤ H ├─────┤0     ├┤ H ├┤M├─────────\n",
       "     ├───┤     │      │├───┤└╥┘┌─┐      \n",
       "q_1: ┤ H ├─────┤1     ├┤ H ├─╫─┤M├──────\n",
       "     ├───┤     │      │├───┤ ║ └╥┘┌─┐   \n",
       "q_2: ┤ H ├─────┤2 U_s ├┤ H ├─╫──╫─┤M├───\n",
       "     ├───┤     │      │├───┤ ║  ║ └╥┘┌─┐\n",
       "q_3: ┤ H ├─────┤3     ├┤ H ├─╫──╫──╫─┤M├\n",
       "     ├───┤┌───┐│      │└───┘ ║  ║  ║ └╥┘\n",
       "q_4: ┤ X ├┤ H ├┤4     ├──────╫──╫──╫──╫─\n",
       "     └───┘└───┘└──────┘      ║  ║  ║  ║ \n",
       "c: 4/════════════════════════╩══╩══╩══╩═\n",
       "                             0  1  2  3 </pre>"
      ],
      "text/plain": [
       "     ┌───┐     ┌──────┐┌───┐┌─┐         \n",
       "q_0: ┤ H ├─────┤0     ├┤ H ├┤M├─────────\n",
       "     ├───┤     │      │├───┤└╥┘┌─┐      \n",
       "q_1: ┤ H ├─────┤1     ├┤ H ├─╫─┤M├──────\n",
       "     ├───┤     │      │├───┤ ║ └╥┘┌─┐   \n",
       "q_2: ┤ H ├─────┤2 U_s ├┤ H ├─╫──╫─┤M├───\n",
       "     ├───┤     │      │├───┤ ║  ║ └╥┘┌─┐\n",
       "q_3: ┤ H ├─────┤3     ├┤ H ├─╫──╫──╫─┤M├\n",
       "     ├───┤┌───┐│      │└───┘ ║  ║  ║ └╥┘\n",
       "q_4: ┤ X ├┤ H ├┤4     ├──────╫──╫──╫──╫─\n",
       "     └───┘└───┘└──────┘      ║  ║  ║  ║ \n",
       "c: 4/════════════════════════╩══╩══╩══╩═\n",
       "                             0  1  2  3 "
      ]
     },
     "execution_count": 2,
     "metadata": {},
     "output_type": "execute_result"
    }
   ],
   "source": [
    "bit_string='0011'\n",
    "n=len(bit_string)\n",
    "\n",
    "def BV_oracle(bit_string, n):\n",
    "    qc_oracle=QuantumCircuit(n+1)\n",
    "    \n",
    "    for i in range(n):\n",
    "        if bit_string[i]=='1':\n",
    "            qc_oracle.cx(i,n)\n",
    "    \n",
    "    oracle_gate= qc_oracle.to_gate()\n",
    "    oracle_gate.name='U_s'\n",
    "    return oracle_gate\n",
    "\n",
    "def qc_circuit(oracle,n):\n",
    "\n",
    "    BV_circuit=QuantumCircuit(n+1,n)\n",
    "\n",
    "    BV_circuit.x(n)\n",
    "    BV_circuit.h(n)\n",
    "\n",
    "    for qubit in range(n):\n",
    "        BV_circuit.h(qubit)\n",
    "    \n",
    "    BV_circuit.append(oracle,range(n+1))\n",
    "\n",
    "    for qubit in range(n):\n",
    "        BV_circuit.h(qubit)\n",
    "\n",
    "    for i in range(n):\n",
    "        BV_circuit.measure(i,i)\n",
    "    \n",
    "    return BV_circuit\n",
    "\n",
    "oracle=BV_oracle(bit_string, n)\n",
    "BV_circuit=qc_circuit(oracle,n)\n",
    "       \n",
    "BV_circuit.draw()"
   ]
  },
  {
   "cell_type": "code",
   "execution_count": 3,
   "metadata": {},
   "outputs": [
    {
     "data": {
      "image/png": "[encoded data removed]",
      "text/plain": [
       "<Figure size 504x360 with 1 Axes>"
      ]
     },
     "execution_count": 3,
     "metadata": {},
     "output_type": "execute_result"
    }
   ],
   "source": [
    "simulator=Aer.get_backend('qasm_simulator')\n",
    "job_c=execute(BV_circuit,backend=simulator)\n",
    "counts=job_c.result().get_counts()\n",
    "plot_histogram(counts)"
   ]
  },
  {
   "cell_type": "code",
   "execution_count": 4,
   "metadata": {},
   "outputs": [
    {
     "name": "stderr",
     "output_type": "stream",
     "text": [
      "/Users/marwa/opt/miniconda3/lib/python3.7/site-packages/qiskit/providers/ibmq/ibmqfactory.py:192: UserWarning: Timestamps in IBMQ backend properties, jobs, and job results are all now in local time instead of UTC.\n",
      "  warnings.warn('Timestamps in IBMQ backend properties, jobs, and job results '\n"
     ]
    }
   ],
   "source": [
    "IBMQ.load_account()\n",
    "provider=IBMQ.get_provider('ibm-q')\n",
    "qcomp=provider.get_backend('ibmq_lima')\n",
    "job_q = execute(BV_circuit, backend=qcomp)"
   ]
  },
  {
   "cell_type": "code",
   "execution_count": 5,
   "metadata": {},
   "outputs": [
    {
     "name": "stdout",
     "output_type": "stream",
     "text": [
      "Job Status: job has successfully run\n"
     ]
    }
   ],
   "source": [
    "from qiskit.tools.monitor import job_monitor\n",
    "job_monitor(job_q)"
   ]
  },
  {
   "cell_type": "code",
   "execution_count": 6,
   "metadata": {},
   "outputs": [
    {
     "data": {
      "image/png": "[encoded data removed]",
      "text/plain": [
       "<Figure size 504x360 with 1 Axes>"
      ]
     },
     "execution_count": 6,
     "metadata": {},
     "output_type": "execute_result"
    }
   ],
   "source": [
    "result_q=job_q.result()\n",
    "plot_histogram(result_q.get_counts(BV_circuit))"
   ]
  },
  {
   "cell_type": "code",
   "execution_count": null,
   "metadata": {},
   "outputs": [],
   "source": []
  }
 ],
 "metadata": {
  "kernelspec": {
   "display_name": "Python 3",
   "language": "python",
   "name": "python3"
  },
  "language_info": {
   "codemirror_mode": {
    "name": "ipython",
    "version": 3
   },
   "file_extension": ".py",
   "mimetype": "text/x-python",
   "name": "python",
   "nbconvert_exporter": "python",
   "pygments_lexer": "ipython3",
   "version": "3.7.7"
  }
 },
 "nbformat": 4,
 "nbformat_minor": 4
}
