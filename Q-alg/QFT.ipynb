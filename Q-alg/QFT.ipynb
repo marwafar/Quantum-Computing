{
 "cells": [
  {
   "cell_type": "code",
   "execution_count": 1,
   "metadata": {},
   "outputs": [],
   "source": [
    "import numpy as np\n",
    "from qiskit import *\n",
    "from qiskit.visualization import plot_histogram"
   ]
  },
  {
   "cell_type": "code",
   "execution_count": 17,
   "metadata": {},
   "outputs": [
    {
     "data": {
      "text/html": [
       "<pre style=\"word-wrap: normal;white-space: pre;background: #fff0;line-height: 1.1;font-family: &quot;Courier New&quot;,Courier,monospace\">        ┌───┐┌─────────┐┌───────┐ ░ ┌─┐      \n",
       "   q_0: ┤ H ├┤ P(5π/4) ├┤0      ├─░─┤M├──────\n",
       "        ├───┤├─────────┤│       │ ░ └╥┘┌─┐   \n",
       "   q_1: ┤ H ├┤ P(5π/2) ├┤1 QFT+ ├─░──╫─┤M├───\n",
       "        ├───┤└┬───────┬┘│       │ ░  ║ └╥┘┌─┐\n",
       "   q_2: ┤ H ├─┤ P(5π) ├─┤2      ├─░──╫──╫─┤M├\n",
       "        └───┘ └───────┘ └───────┘ ░  ║  ║ └╥┘\n",
       "meas: 3/═════════════════════════════╩══╩══╩═\n",
       "                                     0  1  2 </pre>"
      ],
      "text/plain": [
       "        ┌───┐┌─────────┐┌───────┐ ░ ┌─┐      \n",
       "   q_0: ┤ H ├┤ P(5π/4) ├┤0      ├─░─┤M├──────\n",
       "        ├───┤├─────────┤│       │ ░ └╥┘┌─┐   \n",
       "   q_1: ┤ H ├┤ P(5π/2) ├┤1 QFT+ ├─░──╫─┤M├───\n",
       "        ├───┤└┬───────┬┘│       │ ░  ║ └╥┘┌─┐\n",
       "   q_2: ┤ H ├─┤ P(5π) ├─┤2      ├─░──╫──╫─┤M├\n",
       "        └───┘ └───────┘ └───────┘ ░  ║  ║ └╥┘\n",
       "meas: 3/═════════════════════════════╩══╩══╩═\n",
       "                                     0  1  2 "
      ]
     },
     "execution_count": 17,
     "metadata": {},
     "output_type": "execute_result"
    }
   ],
   "source": [
    "def qft_circuit(circuit,n):\n",
    "    if n==0:\n",
    "        return circuit\n",
    "    n-=1\n",
    "    circuit.h(n)\n",
    "    for qubit in range(n):\n",
    "        circuit.cp(np.pi/2**(n-qubit),qubit,n)\n",
    "    qft_circuit(circuit,n)\n",
    "        \n",
    "def swap_qubit(circuit,n):\n",
    "    for qubit in range(n//2):\n",
    "        circuit.swap(qubit,n-1-qubit)\n",
    "    return circuit\n",
    "\n",
    "def qft(circuit,n):\n",
    "    qft_circuit(circuit,n)\n",
    "    swap_qubit(circuit,n)\n",
    "    return circuit\n",
    "    \n",
    "def inverse_qft(circuit,n):\n",
    "    circ_qft=qft(QuantumCircuit(n),n)\n",
    "    inv_qft_circuit=circ_qft.inverse()\n",
    "    qft_gate=inv_qft_circuit.to_gate()\n",
    "    qft_gate.name='QFT+'\n",
    "    circuit.append(qft_gate, range(n))\n",
    "    \n",
    "    return circuit\n",
    "    \n",
    "\n",
    "nqubits=3\n",
    "number=5\n",
    "qc=QuantumCircuit(nqubits)\n",
    "for qubit in range(nqubits):\n",
    "    qc.h(qubit)\n",
    "qc.p(number*np.pi/4,0)\n",
    "qc.p(number*np.pi/2,1)\n",
    "qc.p(number*np.pi,2)\n",
    "\n",
    "inverse_qft(qc,nqubits)\n",
    "qc.measure_all()\n",
    "\n",
    "qc.draw()"
   ]
  },
  {
   "cell_type": "code",
   "execution_count": 18,
   "metadata": {},
   "outputs": [
    {
     "data": {
      "image/png": "[encoded data removed]",
      "text/plain": [
       "<Figure size 504x360 with 1 Axes>"
      ]
     },
     "execution_count": 18,
     "metadata": {},
     "output_type": "execute_result"
    }
   ],
   "source": [
    "simulator=Aer.get_backend('qasm_simulator')\n",
    "job_c=execute(qc,backend=simulator)\n",
    "counts=job_c.result().get_counts()\n",
    "plot_histogram(counts)"
   ]
  },
  {
   "cell_type": "code",
   "execution_count": 19,
   "metadata": {},
   "outputs": [
    {
     "name": "stderr",
     "output_type": "stream",
     "text": [
      "/Users/marwa/opt/miniconda3/lib/python3.7/site-packages/qiskit/providers/ibmq/ibmqfactory.py:192: UserWarning: Timestamps in IBMQ backend properties, jobs, and job results are all now in local time instead of UTC.\n",
      "  warnings.warn('Timestamps in IBMQ backend properties, jobs, and job results '\n"
     ]
    }
   ],
   "source": [
    "IBMQ.load_account()\n",
    "provider=IBMQ.get_provider('ibm-q')\n",
    "qcomp=provider.get_backend('ibmq_lima')\n",
    "job_q = execute(qc, backend=qcomp)"
   ]
  },
  {
   "cell_type": "code",
   "execution_count": 20,
   "metadata": {},
   "outputs": [
    {
     "name": "stdout",
     "output_type": "stream",
     "text": [
      "Job Status: job has successfully run\n"
     ]
    }
   ],
   "source": [
    "from qiskit.tools.monitor import job_monitor\n",
    "job_monitor(job_q)"
   ]
  },
  {
   "cell_type": "code",
   "execution_count": 22,
   "metadata": {},
   "outputs": [
    {
     "data": {
      "image/png": "[encoded data removed]",
      "text/plain": [
       "<Figure size 504x360 with 1 Axes>"
      ]
     },
     "execution_count": 22,
     "metadata": {},
     "output_type": "execute_result"
    }
   ],
   "source": [
    "result_q=job_q.result()\n",
    "plot_histogram(result_q.get_counts(qc))"
   ]
  },
  {
   "cell_type": "code",
   "execution_count": null,
   "metadata": {},
   "outputs": [],
   "source": []
  }
 ],
 "metadata": {
  "kernelspec": {
   "display_name": "Python 3",
   "language": "python",
   "name": "python3"
  },
  "language_info": {
   "codemirror_mode": {
    "name": "ipython",
    "version": 3
   },
   "file_extension": ".py",
   "mimetype": "text/x-python",
   "name": "python",
   "nbconvert_exporter": "python",
   "pygments_lexer": "ipython3",
   "version": "3.7.7"
  }
 },
 "nbformat": 4,
 "nbformat_minor": 4
}
