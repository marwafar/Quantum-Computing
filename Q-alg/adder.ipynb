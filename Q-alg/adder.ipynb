{
 "cells": [
  {
   "cell_type": "code",
   "execution_count": 3,
   "metadata": {},
   "outputs": [],
   "source": [
    "from qiskit import *\n",
    "from qiskit.visualization import plot_histogram"
   ]
  },
  {
   "cell_type": "code",
   "execution_count": 6,
   "metadata": {},
   "outputs": [],
   "source": [
    "qr=QuantumRegister(4)\n",
    "cr=ClassicalRegister(2)\n",
    "circuit=QuantumCircuit(qr,cr)"
   ]
  },
  {
   "cell_type": "code",
   "execution_count": 7,
   "metadata": {},
   "outputs": [
    {
     "data": {
      "text/html": [
       "<pre style=\"word-wrap: normal;white-space: pre;background: #fff0;line-height: 1.1;font-family: &quot;Courier New&quot;,Courier,monospace\">      ┌───┐\n",
       "q2_0: ┤ X ├\n",
       "      ├───┤\n",
       "q2_1: ┤ X ├\n",
       "      └───┘\n",
       "q2_2: ─────\n",
       "           \n",
       "q2_3: ─────\n",
       "           \n",
       "c0: 2/═════\n",
       "           </pre>"
      ],
      "text/plain": [
       "      ┌───┐\n",
       "q2_0: ┤ X ├\n",
       "      ├───┤\n",
       "q2_1: ┤ X ├\n",
       "      └───┘\n",
       "q2_2: ─────\n",
       "           \n",
       "q2_3: ─────\n",
       "           \n",
       "c0: 2/═════\n",
       "           "
      ]
     },
     "execution_count": 7,
     "metadata": {},
     "output_type": "execute_result"
    }
   ],
   "source": [
    "#encode input\n",
    "circuit.x(qr[0])\n",
    "circuit.x(qr[1])\n",
    "circuit.draw()"
   ]
  },
  {
   "cell_type": "code",
   "execution_count": 8,
   "metadata": {},
   "outputs": [
    {
     "data": {
      "text/html": [
       "<pre style=\"word-wrap: normal;white-space: pre;background: #fff0;line-height: 1.1;font-family: &quot;Courier New&quot;,Courier,monospace\">      ┌───┐ ░                 ░ \n",
       "q2_0: ┤ X ├─░───■─────────■───░─\n",
       "      ├───┤ ░   │         │   ░ \n",
       "q2_1: ┤ X ├─░───┼────■────■───░─\n",
       "      └───┘ ░ ┌─┴─┐┌─┴─┐  │   ░ \n",
       "q2_2: ──────░─┤ X ├┤ X ├──┼───░─\n",
       "            ░ └───┘└───┘┌─┴─┐ ░ \n",
       "q2_3: ──────░───────────┤ X ├─░─\n",
       "            ░           └───┘ ░ \n",
       "c0: 2/══════════════════════════\n",
       "                                </pre>"
      ],
      "text/plain": [
       "      ┌───┐ ░                 ░ \n",
       "q2_0: ┤ X ├─░───■─────────■───░─\n",
       "      ├───┤ ░   │         │   ░ \n",
       "q2_1: ┤ X ├─░───┼────■────■───░─\n",
       "      └───┘ ░ ┌─┴─┐┌─┴─┐  │   ░ \n",
       "q2_2: ──────░─┤ X ├┤ X ├──┼───░─\n",
       "            ░ └───┘└───┘┌─┴─┐ ░ \n",
       "q2_3: ──────░───────────┤ X ├─░─\n",
       "            ░           └───┘ ░ \n",
       "c0: 2/══════════════════════════\n",
       "                                "
      ]
     },
     "execution_count": 8,
     "metadata": {},
     "output_type": "execute_result"
    }
   ],
   "source": [
    "#operation on bits.\n",
    "circuit.barrier()\n",
    "circuit.cx(qr[0],qr[2])\n",
    "circuit.cx(qr[1],qr[2])\n",
    "circuit.ccx(qr[0],qr[1],qr[3])\n",
    "circuit.barrier()\n",
    "circuit.draw()"
   ]
  },
  {
   "cell_type": "code",
   "execution_count": 9,
   "metadata": {},
   "outputs": [
    {
     "data": {
      "text/html": [
       "<pre style=\"word-wrap: normal;white-space: pre;background: #fff0;line-height: 1.1;font-family: &quot;Courier New&quot;,Courier,monospace\">      ┌───┐ ░                 ░       \n",
       "q2_0: ┤ X ├─░───■─────────■───░───────\n",
       "      ├───┤ ░   │         │   ░       \n",
       "q2_1: ┤ X ├─░───┼────■────■───░───────\n",
       "      └───┘ ░ ┌─┴─┐┌─┴─┐  │   ░ ┌─┐   \n",
       "q2_2: ──────░─┤ X ├┤ X ├──┼───░─┤M├───\n",
       "            ░ └───┘└───┘┌─┴─┐ ░ └╥┘┌─┐\n",
       "q2_3: ──────░───────────┤ X ├─░──╫─┤M├\n",
       "            ░           └───┘ ░  ║ └╥┘\n",
       "c0: 2/═══════════════════════════╩══╩═\n",
       "                                 0  1 </pre>"
      ],
      "text/plain": [
       "      ┌───┐ ░                 ░       \n",
       "q2_0: ┤ X ├─░───■─────────■───░───────\n",
       "      ├───┤ ░   │         │   ░       \n",
       "q2_1: ┤ X ├─░───┼────■────■───░───────\n",
       "      └───┘ ░ ┌─┴─┐┌─┴─┐  │   ░ ┌─┐   \n",
       "q2_2: ──────░─┤ X ├┤ X ├──┼───░─┤M├───\n",
       "            ░ └───┘└───┘┌─┴─┐ ░ └╥┘┌─┐\n",
       "q2_3: ──────░───────────┤ X ├─░──╫─┤M├\n",
       "            ░           └───┘ ░  ║ └╥┘\n",
       "c0: 2/═══════════════════════════╩══╩═\n",
       "                                 0  1 "
      ]
     },
     "execution_count": 9,
     "metadata": {},
     "output_type": "execute_result"
    }
   ],
   "source": [
    "#measure the quibts\n",
    "circuit.measure(qr[2],cr[0])\n",
    "circuit.measure(qr[3],cr[1])\n",
    "circuit.draw()"
   ]
  },
  {
   "cell_type": "code",
   "execution_count": 14,
   "metadata": {},
   "outputs": [],
   "source": [
    "simulator=Aer.get_backend('qasm_simulator')\n",
    "job=execute(circuit,backend=simulator)"
   ]
  },
  {
   "cell_type": "code",
   "execution_count": 15,
   "metadata": {},
   "outputs": [
    {
     "data": {
      "image/png": "[encoded data removed]",
      "text/plain": [
       "<Figure size 504x360 with 1 Axes>"
      ]
     },
     "execution_count": 15,
     "metadata": {},
     "output_type": "execute_result"
    }
   ],
   "source": [
    "result=job.result()\n",
    "counts=result.get_counts()\n",
    "plot_histogram(counts)"
   ]
  },
  {
   "cell_type": "code",
   "execution_count": 16,
   "metadata": {},
   "outputs": [
    {
     "name": "stderr",
     "output_type": "stream",
     "text": [
      "/Users/marwa/opt/miniconda3/lib/python3.7/site-packages/qiskit/providers/ibmq/ibmqfactory.py:192: UserWarning: Timestamps in IBMQ backend properties, jobs, and job results are all now in local time instead of UTC.\n",
      "  warnings.warn('Timestamps in IBMQ backend properties, jobs, and job results '\n"
     ]
    }
   ],
   "source": [
    "IBMQ.load_account()\n",
    "provider=IBMQ.get_provider('ibm-q')\n",
    "qcomp=provider.get_backend('ibmq_santiago')\n",
    "job_q = execute(circuit, backend=qcomp)"
   ]
  },
  {
   "cell_type": "code",
   "execution_count": 17,
   "metadata": {},
   "outputs": [
    {
     "name": "stdout",
     "output_type": "stream",
     "text": [
      "Job Status: job has successfully run\n"
     ]
    }
   ],
   "source": [
    "from qiskit.tools.monitor import job_monitor\n",
    "job_monitor(job_q)"
   ]
  },
  {
   "cell_type": "code",
   "execution_count": 18,
   "metadata": {},
   "outputs": [
    {
     "data": {
      "image/png": "[encoded data removed]",
      "text/plain": [
       "<Figure size 504x360 with 1 Axes>"
      ]
     },
     "execution_count": 18,
     "metadata": {},
     "output_type": "execute_result"
    }
   ],
   "source": [
    "result_q=job_q.result()\n",
    "plot_histogram(result_q.get_counts(circuit))"
   ]
  },
  {
   "cell_type": "code",
   "execution_count": null,
   "metadata": {},
   "outputs": [],
   "source": []
  }
 ],
 "metadata": {
  "kernelspec": {
   "display_name": "Python 3",
   "language": "python",
   "name": "python3"
  },
  "language_info": {
   "codemirror_mode": {
    "name": "ipython",
    "version": 3
   },
   "file_extension": ".py",
   "mimetype": "text/x-python",
   "name": "python",
   "nbconvert_exporter": "python",
   "pygments_lexer": "ipython3",
   "version": "3.7.7"
  }
 },
 "nbformat": 4,
 "nbformat_minor": 4
}
