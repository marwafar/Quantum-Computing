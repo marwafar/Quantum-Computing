{
 "cells": [
  {
   "cell_type": "code",
   "execution_count": 24,
   "metadata": {},
   "outputs": [],
   "source": [
    "import numpy as np\n",
    "from qiskit import *\n",
    "from qiskit.visualization import plot_histogram"
   ]
  },
  {
   "cell_type": "code",
   "execution_count": 25,
   "metadata": {},
   "outputs": [],
   "source": [
    "bit_string='101'\n",
    "n=len(bit_string)\n",
    "case='balanced'"
   ]
  },
  {
   "cell_type": "code",
   "execution_count": 26,
   "metadata": {},
   "outputs": [],
   "source": [
    "def oracle_circuit(case,bit_string):\n",
    "    if case == 'balanced':\n",
    "        n=len(bit_string)\n",
    "        oracle_circuit=QuantumCircuit(n+1)\n",
    "    \n",
    "        for qubit in range(n):\n",
    "            if bit_string[qubit]=='1':\n",
    "                oracle_circuit.x(qubit)\n",
    "    \n",
    "        for qubit in range(n):\n",
    "            oracle_circuit.cx(qubit,n)\n",
    "        \n",
    "        for qubit in range(n):\n",
    "            if bit_string[qubit]=='1':\n",
    "                oracle_circuit.x(qubit)\n",
    "    \n",
    "    oracle_gate=oracle_circuit.to_gate()\n",
    "    oracle_gate.name='U_f'\n",
    "    return oracle_gate       "
   ]
  },
  {
   "cell_type": "code",
   "execution_count": 27,
   "metadata": {},
   "outputs": [],
   "source": [
    "def dj_circuit(oracle,n):\n",
    "    dj_circuit=QuantumCircuit(n+1,n)\n",
    "    \n",
    "    for qubit in range(n):\n",
    "        dj_circuit.h(qubit)\n",
    "    \n",
    "    dj_circuit.x(n)\n",
    "    dj_circuit.h(n)\n",
    "    \n",
    "    dj_circuit.append(oracle,range(n+1))\n",
    "    \n",
    "    for qubit in range(n):\n",
    "        dj_circuit.h(qubit)\n",
    "    \n",
    "    for qubit in range(n):\n",
    "        dj_circuit.measure(qubit,qubit)\n",
    "        \n",
    "    return dj_circuit   "
   ]
  },
  {
   "cell_type": "code",
   "execution_count": 28,
   "metadata": {},
   "outputs": [
    {
     "data": {
      "text/html": [
       "<pre style=\"word-wrap: normal;white-space: pre;background: #fff0;line-height: 1.1;font-family: &quot;Courier New&quot;,Courier,monospace\">     ┌───┐     ┌──────┐┌───┐┌─┐      \n",
       "q_0: ┤ H ├─────┤0     ├┤ H ├┤M├──────\n",
       "     ├───┤     │      │├───┤└╥┘┌─┐   \n",
       "q_1: ┤ H ├─────┤1     ├┤ H ├─╫─┤M├───\n",
       "     ├───┤     │  U_f │├───┤ ║ └╥┘┌─┐\n",
       "q_2: ┤ H ├─────┤2     ├┤ H ├─╫──╫─┤M├\n",
       "     ├───┤┌───┐│      │└───┘ ║  ║ └╥┘\n",
       "q_3: ┤ X ├┤ H ├┤3     ├──────╫──╫──╫─\n",
       "     └───┘└───┘└──────┘      ║  ║  ║ \n",
       "c: 3/════════════════════════╩══╩══╩═\n",
       "                             0  1  2 </pre>"
      ],
      "text/plain": [
       "     ┌───┐     ┌──────┐┌───┐┌─┐      \n",
       "q_0: ┤ H ├─────┤0     ├┤ H ├┤M├──────\n",
       "     ├───┤     │      │├───┤└╥┘┌─┐   \n",
       "q_1: ┤ H ├─────┤1     ├┤ H ├─╫─┤M├───\n",
       "     ├───┤     │  U_f │├───┤ ║ └╥┘┌─┐\n",
       "q_2: ┤ H ├─────┤2     ├┤ H ├─╫──╫─┤M├\n",
       "     ├───┤┌───┐│      │└───┘ ║  ║ └╥┘\n",
       "q_3: ┤ X ├┤ H ├┤3     ├──────╫──╫──╫─\n",
       "     └───┘└───┘└──────┘      ║  ║  ║ \n",
       "c: 3/════════════════════════╩══╩══╩═\n",
       "                             0  1  2 "
      ]
     },
     "execution_count": 28,
     "metadata": {},
     "output_type": "execute_result"
    }
   ],
   "source": [
    "oracle=oracle_circuit(case,bit_string)\n",
    "q_circuit=dj_circuit(oracle,n)\n",
    "q_circuit.draw()"
   ]
  },
  {
   "cell_type": "code",
   "execution_count": 29,
   "metadata": {},
   "outputs": [
    {
     "data": {
      "image/png": "[encoded data removed]",
      "text/plain": [
       "<Figure size 504x360 with 1 Axes>"
      ]
     },
     "execution_count": 29,
     "metadata": {},
     "output_type": "execute_result"
    }
   ],
   "source": [
    "simulator=Aer.get_backend('qasm_simulator')\n",
    "job_c=execute(q_circuit,backend=simulator)\n",
    "counts=job_c.result().get_counts()\n",
    "plot_histogram(counts)"
   ]
  },
  {
   "cell_type": "code",
   "execution_count": 30,
   "metadata": {},
   "outputs": [
    {
     "name": "stderr",
     "output_type": "stream",
     "text": [
      "ibmqfactory.load_account:WARNING:2021-03-01 11:40:17,926: Credentials are already in use. The existing account in the session will be replaced.\n"
     ]
    }
   ],
   "source": [
    "IBMQ.load_account()\n",
    "provider=IBMQ.get_provider('ibm-q')\n",
    "qcomp=provider.get_backend('ibmq_lima')\n",
    "job_q = execute(q_circuit, backend=qcomp)"
   ]
  },
  {
   "cell_type": "code",
   "execution_count": 31,
   "metadata": {},
   "outputs": [
    {
     "name": "stdout",
     "output_type": "stream",
     "text": [
      "Job Status: job has successfully run\n"
     ]
    }
   ],
   "source": [
    "from qiskit.tools.monitor import job_monitor\n",
    "job_monitor(job_q)"
   ]
  },
  {
   "cell_type": "code",
   "execution_count": 32,
   "metadata": {},
   "outputs": [
    {
     "data": {
      "image/png": "[encoded data removed]",
      "text/plain": [
       "<Figure size 504x360 with 1 Axes>"
      ]
     },
     "execution_count": 32,
     "metadata": {},
     "output_type": "execute_result"
    }
   ],
   "source": [
    "result_q=job_q.result()\n",
    "plot_histogram(result_q.get_counts(q_circuit))"
   ]
  },
  {
   "cell_type": "code",
   "execution_count": null,
   "metadata": {},
   "outputs": [],
   "source": []
  }
 ],
 "metadata": {
  "kernelspec": {
   "display_name": "Python 3",
   "language": "python",
   "name": "python3"
  },
  "language_info": {
   "codemirror_mode": {
    "name": "ipython",
    "version": 3
   },
   "file_extension": ".py",
   "mimetype": "text/x-python",
   "name": "python",
   "nbconvert_exporter": "python",
   "pygments_lexer": "ipython3",
   "version": "3.7.7"
  }
 },
 "nbformat": 4,
 "nbformat_minor": 4
}
