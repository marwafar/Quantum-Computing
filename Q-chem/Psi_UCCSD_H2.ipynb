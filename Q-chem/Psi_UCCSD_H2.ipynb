{
 "cells": [
  {
   "cell_type": "code",
   "execution_count": 1,
   "metadata": {},
   "outputs": [],
   "source": [
    "from qiskit import *\n",
    "import numpy as np\n",
    "%matplotlib inline"
   ]
  },
  {
   "cell_type": "code",
   "execution_count": 2,
   "metadata": {},
   "outputs": [],
   "source": [
    "qr = QuantumRegister(4)\n",
    "cr = ClassicalRegister(4)\n",
    "circuit = QuantumCircuit(qr,cr)"
   ]
  },
  {
   "cell_type": "code",
   "execution_count": 3,
   "metadata": {},
   "outputs": [
    {
     "data": {
      "text/html": [
       "<pre style=\"word-wrap: normal;white-space: pre;background: #fff0;line-height: 1.1;font-family: &quot;Courier New&quot;,Courier,monospace\">      \n",
       "q0_0: \n",
       "      \n",
       "q0_1: \n",
       "      \n",
       "q0_2: \n",
       "      \n",
       "q0_3: \n",
       "      \n",
       "c0: 4/\n",
       "      </pre>"
      ],
      "text/plain": [
       "      \n",
       "q0_0: \n",
       "      \n",
       "q0_1: \n",
       "      \n",
       "q0_2: \n",
       "      \n",
       "q0_3: \n",
       "      \n",
       "c0: 4/\n",
       "      "
      ]
     },
     "execution_count": 3,
     "metadata": {},
     "output_type": "execute_result"
    }
   ],
   "source": [
    "circuit.draw()"
   ]
  },
  {
   "cell_type": "code",
   "execution_count": 4,
   "metadata": {},
   "outputs": [
    {
     "data": {
      "text/html": [
       "<pre style=\"word-wrap: normal;white-space: pre;background: #fff0;line-height: 1.1;font-family: &quot;Courier New&quot;,Courier,monospace\">      ┌───┐\n",
       "q0_0: ┤ X ├\n",
       "      ├───┤\n",
       "q0_1: ┤ X ├\n",
       "      └───┘\n",
       "q0_2: ─────\n",
       "           \n",
       "q0_3: ─────\n",
       "           \n",
       "c0: 4/═════\n",
       "           </pre>"
      ],
      "text/plain": [
       "      ┌───┐\n",
       "q0_0: ┤ X ├\n",
       "      ├───┤\n",
       "q0_1: ┤ X ├\n",
       "      └───┘\n",
       "q0_2: ─────\n",
       "           \n",
       "q0_3: ─────\n",
       "           \n",
       "c0: 4/═════\n",
       "           "
      ]
     },
     "execution_count": 4,
     "metadata": {},
     "output_type": "execute_result"
    }
   ],
   "source": [
    "circuit.x(qr[0])\n",
    "circuit.x(qr[1])\n",
    "\n",
    "circuit.draw()"
   ]
  },
  {
   "cell_type": "code",
   "execution_count": 5,
   "metadata": {},
   "outputs": [
    {
     "name": "stdout",
     "output_type": "stream",
     "text": [
      "[0.+0.j 0.+0.j 0.+0.j 1.+0.j 0.+0.j 0.+0.j 0.+0.j 0.+0.j 0.+0.j 0.+0.j\n",
      " 0.+0.j 0.+0.j 0.+0.j 0.+0.j 0.+0.j 0.+0.j]\n"
     ]
    }
   ],
   "source": [
    "simulator = Aer.get_backend('statevector_simulator')\n",
    "job = execute(circuit,backend=simulator)\n",
    "result=job.result()\n",
    "out=result.get_statevector(circuit, decimals=3)\n",
    "print(out)"
   ]
  },
  {
   "cell_type": "code",
   "execution_count": 6,
   "metadata": {},
   "outputs": [
    {
     "data": {
      "text/plain": [
       "<qiskit.circuit.instructionset.InstructionSet at 0x7fb401602390>"
      ]
     },
     "execution_count": 6,
     "metadata": {},
     "output_type": "execute_result"
    }
   ],
   "source": [
    "circuit.barrier()\n",
    "#circuit.measure(qr[0],cr[0])\n",
    "#circuit.measure(qr[1],cr[1])\n",
    "#circuit.measure(qr[2],cr[2])\n",
    "#circuit.measure(qr[3],cr[3])\n",
    "#circuit.barrier()\n",
    "\n",
    "#simulator = Aer.get_backend('qasm_simulator')\n",
    "#job = execute(circuit,backend=simulator)\n",
    "#result=job.result()\n",
    "#counts=result.get_counts()\n",
    "#print(counts)"
   ]
  },
  {
   "cell_type": "code",
   "execution_count": 7,
   "metadata": {},
   "outputs": [
    {
     "data": {
      "text/html": [
       "<pre style=\"word-wrap: normal;white-space: pre;background: #fff0;line-height: 1.1;font-family: &quot;Courier New&quot;,Courier,monospace\">      ┌───┐ ░ \n",
       "q0_0: ┤ X ├─░─\n",
       "      ├───┤ ░ \n",
       "q0_1: ┤ X ├─░─\n",
       "      └───┘ ░ \n",
       "q0_2: ──────░─\n",
       "            ░ \n",
       "q0_3: ──────░─\n",
       "            ░ \n",
       "c0: 4/════════\n",
       "              </pre>"
      ],
      "text/plain": [
       "      ┌───┐ ░ \n",
       "q0_0: ┤ X ├─░─\n",
       "      ├───┤ ░ \n",
       "q0_1: ┤ X ├─░─\n",
       "      └───┘ ░ \n",
       "q0_2: ──────░─\n",
       "            ░ \n",
       "q0_3: ──────░─\n",
       "            ░ \n",
       "c0: 4/════════\n",
       "              "
      ]
     },
     "execution_count": 7,
     "metadata": {},
     "output_type": "execute_result"
    }
   ],
   "source": [
    "circuit.draw()"
   ]
  },
  {
   "cell_type": "code",
   "execution_count": 8,
   "metadata": {},
   "outputs": [
    {
     "data": {
      "text/html": [
       "<pre style=\"word-wrap: normal;white-space: pre;background: #fff0;line-height: 1.1;font-family: &quot;Courier New&quot;,Courier,monospace\">      ┌───┐ ░ ┌─────────┐\n",
       "q0_0: ┤ X ├─░─┤ RX(π/2) ├\n",
       "      ├───┤ ░ └──┬───┬──┘\n",
       "q0_1: ┤ X ├─░────┤ H ├───\n",
       "      └───┘ ░    ├───┤   \n",
       "q0_2: ──────░────┤ H ├───\n",
       "            ░    ├───┤   \n",
       "q0_3: ──────░────┤ H ├───\n",
       "            ░    └───┘   \n",
       "c0: 4/═══════════════════\n",
       "                         </pre>"
      ],
      "text/plain": [
       "      ┌───┐ ░ ┌─────────┐\n",
       "q0_0: ┤ X ├─░─┤ RX(π/2) ├\n",
       "      ├───┤ ░ └──┬───┬──┘\n",
       "q0_1: ┤ X ├─░────┤ H ├───\n",
       "      └───┘ ░    ├───┤   \n",
       "q0_2: ──────░────┤ H ├───\n",
       "            ░    ├───┤   \n",
       "q0_3: ──────░────┤ H ├───\n",
       "            ░    └───┘   \n",
       "c0: 4/═══════════════════\n",
       "                         "
      ]
     },
     "execution_count": 8,
     "metadata": {},
     "output_type": "execute_result"
    }
   ],
   "source": [
    "circuit.rx(np.pi/2,qr[0])\n",
    "circuit.h(qr[1])\n",
    "circuit.h(qr[2])\n",
    "circuit.h(qr[3])\n",
    "circuit.draw()"
   ]
  },
  {
   "cell_type": "code",
   "execution_count": 9,
   "metadata": {},
   "outputs": [
    {
     "data": {
      "text/html": [
       "<pre style=\"word-wrap: normal;white-space: pre;background: #fff0;line-height: 1.1;font-family: &quot;Courier New&quot;,Courier,monospace\">      ┌───┐ ░ ┌─────────┐               \n",
       "q0_0: ┤ X ├─░─┤ RX(π/2) ├──■────────────\n",
       "      ├───┤ ░ └──┬───┬──┘┌─┴─┐          \n",
       "q0_1: ┤ X ├─░────┤ H ├───┤ X ├──■───────\n",
       "      └───┘ ░    ├───┤   └───┘┌─┴─┐     \n",
       "q0_2: ──────░────┤ H ├────────┤ X ├──■──\n",
       "            ░    ├───┤        └───┘┌─┴─┐\n",
       "q0_3: ──────░────┤ H ├─────────────┤ X ├\n",
       "            ░    └───┘             └───┘\n",
       "c0: 4/══════════════════════════════════\n",
       "                                        </pre>"
      ],
      "text/plain": [
       "      ┌───┐ ░ ┌─────────┐               \n",
       "q0_0: ┤ X ├─░─┤ RX(π/2) ├──■────────────\n",
       "      ├───┤ ░ └──┬───┬──┘┌─┴─┐          \n",
       "q0_1: ┤ X ├─░────┤ H ├───┤ X ├──■───────\n",
       "      └───┘ ░    ├───┤   └───┘┌─┴─┐     \n",
       "q0_2: ──────░────┤ H ├────────┤ X ├──■──\n",
       "            ░    ├───┤        └───┘┌─┴─┐\n",
       "q0_3: ──────░────┤ H ├─────────────┤ X ├\n",
       "            ░    └───┘             └───┘\n",
       "c0: 4/══════════════════════════════════\n",
       "                                        "
      ]
     },
     "execution_count": 9,
     "metadata": {},
     "output_type": "execute_result"
    }
   ],
   "source": [
    "circuit.cx(qr[0],qr[1])\n",
    "circuit.cx(qr[1],qr[2])\n",
    "circuit.cx(qr[2],qr[3])\n",
    "circuit.draw()"
   ]
  },
  {
   "cell_type": "code",
   "execution_count": 10,
   "metadata": {},
   "outputs": [
    {
     "data": {
      "text/html": [
       "<pre style=\"word-wrap: normal;white-space: pre;background: #fff0;line-height: 1.1;font-family: &quot;Courier New&quot;,Courier,monospace\">      ┌───┐ ░ ┌─────────┐                ░              ░ \n",
       "q0_0: ┤ X ├─░─┤ RX(π/2) ├──■─────────────░──────────────░─\n",
       "      ├───┤ ░ └──┬───┬──┘┌─┴─┐           ░              ░ \n",
       "q0_1: ┤ X ├─░────┤ H ├───┤ X ├──■────────░──────────────░─\n",
       "      └───┘ ░    ├───┤   └───┘┌─┴─┐      ░              ░ \n",
       "q0_2: ──────░────┤ H ├────────┤ X ├──■───░──────────────░─\n",
       "            ░    ├───┤        └───┘┌─┴─┐ ░ ┌──────────┐ ░ \n",
       "q0_3: ──────░────┤ H ├─────────────┤ X ├─░─┤ RZ(0.11) ├─░─\n",
       "            ░    └───┘             └───┘ ░ └──────────┘ ░ \n",
       "c0: 4/════════════════════════════════════════════════════\n",
       "                                                          </pre>"
      ],
      "text/plain": [
       "      ┌───┐ ░ ┌─────────┐                ░              ░ \n",
       "q0_0: ┤ X ├─░─┤ RX(π/2) ├──■─────────────░──────────────░─\n",
       "      ├───┤ ░ └──┬───┬──┘┌─┴─┐           ░              ░ \n",
       "q0_1: ┤ X ├─░────┤ H ├───┤ X ├──■────────░──────────────░─\n",
       "      └───┘ ░    ├───┤   └───┘┌─┴─┐      ░              ░ \n",
       "q0_2: ──────░────┤ H ├────────┤ X ├──■───░──────────────░─\n",
       "            ░    ├───┤        └───┘┌─┴─┐ ░ ┌──────────┐ ░ \n",
       "q0_3: ──────░────┤ H ├─────────────┤ X ├─░─┤ RZ(0.11) ├─░─\n",
       "            ░    └───┘             └───┘ ░ └──────────┘ ░ \n",
       "c0: 4/════════════════════════════════════════════════════\n",
       "                                                          "
      ]
     },
     "execution_count": 10,
     "metadata": {},
     "output_type": "execute_result"
    }
   ],
   "source": [
    "theta=0.11\n",
    "circuit.barrier()\n",
    "circuit.rz(theta,qr[3])\n",
    "circuit.barrier()\n",
    "circuit.draw()"
   ]
  },
  {
   "cell_type": "code",
   "execution_count": 11,
   "metadata": {},
   "outputs": [
    {
     "data": {
      "text/html": [
       "<pre style=\"word-wrap: normal;white-space: pre;background: #fff0;line-height: 1.1;font-family: &quot;Courier New&quot;,Courier,monospace\">      ┌───┐ ░ ┌─────────┐                ░              ░                \n",
       "q0_0: ┤ X ├─░─┤ RX(π/2) ├──■─────────────░──────────────░─────────────■──\n",
       "      ├───┤ ░ └──┬───┬──┘┌─┴─┐           ░              ░           ┌─┴─┐\n",
       "q0_1: ┤ X ├─░────┤ H ├───┤ X ├──■────────░──────────────░────────■──┤ X ├\n",
       "      └───┘ ░    ├───┤   └───┘┌─┴─┐      ░              ░      ┌─┴─┐└───┘\n",
       "q0_2: ──────░────┤ H ├────────┤ X ├──■───░──────────────░───■──┤ X ├─────\n",
       "            ░    ├───┤        └───┘┌─┴─┐ ░ ┌──────────┐ ░ ┌─┴─┐└───┘     \n",
       "q0_3: ──────░────┤ H ├─────────────┤ X ├─░─┤ RZ(0.11) ├─░─┤ X ├──────────\n",
       "            ░    └───┘             └───┘ ░ └──────────┘ ░ └───┘          \n",
       "c0: 4/═══════════════════════════════════════════════════════════════════\n",
       "                                                                         </pre>"
      ],
      "text/plain": [
       "      ┌───┐ ░ ┌─────────┐                ░              ░                \n",
       "q0_0: ┤ X ├─░─┤ RX(π/2) ├──■─────────────░──────────────░─────────────■──\n",
       "      ├───┤ ░ └──┬───┬──┘┌─┴─┐           ░              ░           ┌─┴─┐\n",
       "q0_1: ┤ X ├─░────┤ H ├───┤ X ├──■────────░──────────────░────────■──┤ X ├\n",
       "      └───┘ ░    ├───┤   └───┘┌─┴─┐      ░              ░      ┌─┴─┐└───┘\n",
       "q0_2: ──────░────┤ H ├────────┤ X ├──■───░──────────────░───■──┤ X ├─────\n",
       "            ░    ├───┤        └───┘┌─┴─┐ ░ ┌──────────┐ ░ ┌─┴─┐└───┘     \n",
       "q0_3: ──────░────┤ H ├─────────────┤ X ├─░─┤ RZ(0.11) ├─░─┤ X ├──────────\n",
       "            ░    └───┘             └───┘ ░ └──────────┘ ░ └───┘          \n",
       "c0: 4/═══════════════════════════════════════════════════════════════════\n",
       "                                                                         "
      ]
     },
     "execution_count": 11,
     "metadata": {},
     "output_type": "execute_result"
    }
   ],
   "source": [
    "circuit.cx(qr[2],qr[3])\n",
    "circuit.cx(qr[1],qr[2])\n",
    "circuit.cx(qr[0],qr[1])\n",
    "circuit.draw()"
   ]
  },
  {
   "cell_type": "code",
   "execution_count": 12,
   "metadata": {},
   "outputs": [
    {
     "data": {
      "text/html": [
       "<pre style=\"word-wrap: normal;white-space: pre;background: #fff0;line-height: 1.1;font-family: &quot;Courier New&quot;,Courier,monospace\">      ┌───┐ ░ ┌─────────┐                ░              ░                 ░ »\n",
       "q0_0: ┤ X ├─░─┤ RX(π/2) ├──■─────────────░──────────────░─────────────■───░─»\n",
       "      ├───┤ ░ └──┬───┬──┘┌─┴─┐           ░              ░           ┌─┴─┐ ░ »\n",
       "q0_1: ┤ X ├─░────┤ H ├───┤ X ├──■────────░──────────────░────────■──┤ X ├─░─»\n",
       "      └───┘ ░    ├───┤   └───┘┌─┴─┐      ░              ░      ┌─┴─┐└───┘ ░ »\n",
       "q0_2: ──────░────┤ H ├────────┤ X ├──■───░──────────────░───■──┤ X ├──────░─»\n",
       "            ░    ├───┤        └───┘┌─┴─┐ ░ ┌──────────┐ ░ ┌─┴─┐└───┘      ░ »\n",
       "q0_3: ──────░────┤ H ├─────────────┤ X ├─░─┤ RZ(0.11) ├─░─┤ X ├───────────░─»\n",
       "            ░    └───┘             └───┘ ░ └──────────┘ ░ └───┘           ░ »\n",
       "c0: 4/══════════════════════════════════════════════════════════════════════»\n",
       "                                                                            »\n",
       "«      ┌──────────┐ ░ \n",
       "«q0_0: ┤ RX(-π/2) ├─░─\n",
       "«      └──┬───┬───┘ ░ \n",
       "«q0_1: ───┤ H ├─────░─\n",
       "«         ├───┤     ░ \n",
       "«q0_2: ───┤ H ├─────░─\n",
       "«         ├───┤     ░ \n",
       "«q0_3: ───┤ H ├─────░─\n",
       "«         └───┘     ░ \n",
       "«c0: 4/═══════════════\n",
       "«                     </pre>"
      ],
      "text/plain": [
       "      ┌───┐ ░ ┌─────────┐                ░              ░                 ░ »\n",
       "q0_0: ┤ X ├─░─┤ RX(π/2) ├──■─────────────░──────────────░─────────────■───░─»\n",
       "      ├───┤ ░ └──┬───┬──┘┌─┴─┐           ░              ░           ┌─┴─┐ ░ »\n",
       "q0_1: ┤ X ├─░────┤ H ├───┤ X ├──■────────░──────────────░────────■──┤ X ├─░─»\n",
       "      └───┘ ░    ├───┤   └───┘┌─┴─┐      ░              ░      ┌─┴─┐└───┘ ░ »\n",
       "q0_2: ──────░────┤ H ├────────┤ X ├──■───░──────────────░───■──┤ X ├──────░─»\n",
       "            ░    ├───┤        └───┘┌─┴─┐ ░ ┌──────────┐ ░ ┌─┴─┐└───┘      ░ »\n",
       "q0_3: ──────░────┤ H ├─────────────┤ X ├─░─┤ RZ(0.11) ├─░─┤ X ├───────────░─»\n",
       "            ░    └───┘             └───┘ ░ └──────────┘ ░ └───┘           ░ »\n",
       "c0: 4/══════════════════════════════════════════════════════════════════════»\n",
       "                                                                            »\n",
       "«      ┌──────────┐ ░ \n",
       "«q0_0: ┤ RX(-π/2) ├─░─\n",
       "«      └──┬───┬───┘ ░ \n",
       "«q0_1: ───┤ H ├─────░─\n",
       "«         ├───┤     ░ \n",
       "«q0_2: ───┤ H ├─────░─\n",
       "«         ├───┤     ░ \n",
       "«q0_3: ───┤ H ├─────░─\n",
       "«         └───┘     ░ \n",
       "«c0: 4/═══════════════\n",
       "«                     "
      ]
     },
     "execution_count": 12,
     "metadata": {},
     "output_type": "execute_result"
    }
   ],
   "source": [
    "circuit.barrier()\n",
    "circuit.rx(-(np.pi/2),qr[0])\n",
    "circuit.h(qr[1])\n",
    "circuit.h(qr[2])\n",
    "circuit.h(qr[3])\n",
    "circuit.barrier()\n",
    "circuit.draw()"
   ]
  },
  {
   "cell_type": "code",
   "execution_count": 13,
   "metadata": {},
   "outputs": [
    {
     "data": {
      "text/html": [
       "<pre style=\"word-wrap: normal;white-space: pre;background: #fff0;line-height: 1.1;font-family: &quot;Courier New&quot;,Courier,monospace\">      ┌───┐ ░ ┌─────────┐                ░              ░                 ░ »\n",
       "q0_0: ┤ X ├─░─┤ RX(π/2) ├──■─────────────░──────────────░─────────────■───░─»\n",
       "      ├───┤ ░ └──┬───┬──┘┌─┴─┐           ░              ░           ┌─┴─┐ ░ »\n",
       "q0_1: ┤ X ├─░────┤ H ├───┤ X ├──■────────░──────────────░────────■──┤ X ├─░─»\n",
       "      └───┘ ░    ├───┤   └───┘┌─┴─┐      ░              ░      ┌─┴─┐└───┘ ░ »\n",
       "q0_2: ──────░────┤ H ├────────┤ X ├──■───░──────────────░───■──┤ X ├──────░─»\n",
       "            ░    ├───┤        └───┘┌─┴─┐ ░ ┌──────────┐ ░ ┌─┴─┐└───┘      ░ »\n",
       "q0_3: ──────░────┤ H ├─────────────┤ X ├─░─┤ RZ(0.11) ├─░─┤ X ├───────────░─»\n",
       "            ░    └───┘             └───┘ ░ └──────────┘ ░ └───┘           ░ »\n",
       "c0: 4/══════════════════════════════════════════════════════════════════════»\n",
       "                                                                            »\n",
       "«      ┌──────────┐ ░ ┌─┐          ░ \n",
       "«q0_0: ┤ RX(-π/2) ├─░─┤M├──────────░─\n",
       "«      └──┬───┬───┘ ░ └╥┘┌─┐       ░ \n",
       "«q0_1: ───┤ H ├─────░──╫─┤M├───────░─\n",
       "«         ├───┤     ░  ║ └╥┘┌─┐    ░ \n",
       "«q0_2: ───┤ H ├─────░──╫──╫─┤M├────░─\n",
       "«         ├───┤     ░  ║  ║ └╥┘┌─┐ ░ \n",
       "«q0_3: ───┤ H ├─────░──╫──╫──╫─┤M├─░─\n",
       "«         └───┘     ░  ║  ║  ║ └╥┘ ░ \n",
       "«c0: 4/════════════════╩══╩══╩══╩════\n",
       "«                      0  1  2  3    </pre>"
      ],
      "text/plain": [
       "      ┌───┐ ░ ┌─────────┐                ░              ░                 ░ »\n",
       "q0_0: ┤ X ├─░─┤ RX(π/2) ├──■─────────────░──────────────░─────────────■───░─»\n",
       "      ├───┤ ░ └──┬───┬──┘┌─┴─┐           ░              ░           ┌─┴─┐ ░ »\n",
       "q0_1: ┤ X ├─░────┤ H ├───┤ X ├──■────────░──────────────░────────■──┤ X ├─░─»\n",
       "      └───┘ ░    ├───┤   └───┘┌─┴─┐      ░              ░      ┌─┴─┐└───┘ ░ »\n",
       "q0_2: ──────░────┤ H ├────────┤ X ├──■───░──────────────░───■──┤ X ├──────░─»\n",
       "            ░    ├───┤        └───┘┌─┴─┐ ░ ┌──────────┐ ░ ┌─┴─┐└───┘      ░ »\n",
       "q0_3: ──────░────┤ H ├─────────────┤ X ├─░─┤ RZ(0.11) ├─░─┤ X ├───────────░─»\n",
       "            ░    └───┘             └───┘ ░ └──────────┘ ░ └───┘           ░ »\n",
       "c0: 4/══════════════════════════════════════════════════════════════════════»\n",
       "                                                                            »\n",
       "«      ┌──────────┐ ░ ┌─┐          ░ \n",
       "«q0_0: ┤ RX(-π/2) ├─░─┤M├──────────░─\n",
       "«      └──┬───┬───┘ ░ └╥┘┌─┐       ░ \n",
       "«q0_1: ───┤ H ├─────░──╫─┤M├───────░─\n",
       "«         ├───┤     ░  ║ └╥┘┌─┐    ░ \n",
       "«q0_2: ───┤ H ├─────░──╫──╫─┤M├────░─\n",
       "«         ├───┤     ░  ║  ║ └╥┘┌─┐ ░ \n",
       "«q0_3: ───┤ H ├─────░──╫──╫──╫─┤M├─░─\n",
       "«         └───┘     ░  ║  ║  ║ └╥┘ ░ \n",
       "«c0: 4/════════════════╩══╩══╩══╩════\n",
       "«                      0  1  2  3    "
      ]
     },
     "execution_count": 13,
     "metadata": {},
     "output_type": "execute_result"
    }
   ],
   "source": [
    "circuit.measure(qr[0],cr[0])\n",
    "circuit.measure(qr[1],cr[1])\n",
    "circuit.measure(qr[2],cr[2])\n",
    "circuit.measure(qr[3],cr[3])\n",
    "circuit.barrier()\n",
    "\n",
    "circuit.draw()"
   ]
  },
  {
   "cell_type": "code",
   "execution_count": 14,
   "metadata": {},
   "outputs": [
    {
     "name": "stdout",
     "output_type": "stream",
     "text": [
      "{'0011': 1023, '1100': 1}\n"
     ]
    }
   ],
   "source": [
    "simulator = Aer.get_backend('qasm_simulator')\n",
    "job = execute(circuit,backend=simulator,shots=1024)\n",
    "result=job.result()\n",
    "counts_2=result.get_counts()\n",
    "print(counts_2)"
   ]
  },
  {
   "cell_type": "code",
   "execution_count": 15,
   "metadata": {},
   "outputs": [
    {
     "data": {
      "image/png": "[encoded data removed]",
      "text/plain": [
       "<Figure size 504x360 with 1 Axes>"
      ]
     },
     "execution_count": 15,
     "metadata": {},
     "output_type": "execute_result"
    }
   ],
   "source": [
    "from qiskit.visualization import plot_histogram\n",
    "plot_histogram(counts_2)"
   ]
  },
  {
   "cell_type": "code",
   "execution_count": 16,
   "metadata": {},
   "outputs": [
    {
     "name": "stderr",
     "output_type": "stream",
     "text": [
      "/Users/marwa/opt/miniconda3/lib/python3.7/site-packages/qiskit/providers/ibmq/ibmqfactory.py:192: UserWarning: Timestamps in IBMQ backend properties, jobs, and job results are all now in local time instead of UTC.\n",
      "  warnings.warn('Timestamps in IBMQ backend properties, jobs, and job results '\n"
     ]
    }
   ],
   "source": [
    "IBMQ.load_account()\n",
    "provider=IBMQ.get_provider('ibm-q')\n",
    "qcomp=provider.get_backend('ibmq_santiago')\n",
    "job_q = execute(circuit, backend=qcomp, shots=1024)"
   ]
  },
  {
   "cell_type": "code",
   "execution_count": 17,
   "metadata": {},
   "outputs": [
    {
     "name": "stdout",
     "output_type": "stream",
     "text": [
      "Job Status: job has successfully run\n"
     ]
    }
   ],
   "source": [
    "from qiskit.tools.monitor import job_monitor\n",
    "job_monitor(job_q)"
   ]
  },
  {
   "cell_type": "code",
   "execution_count": 18,
   "metadata": {},
   "outputs": [],
   "source": [
    "result_q=job_q.result()"
   ]
  },
  {
   "cell_type": "code",
   "execution_count": 19,
   "metadata": {},
   "outputs": [
    {
     "data": {
      "image/png": "[encoded data removed]",
      "text/plain": [
       "<Figure size 504x360 with 1 Axes>"
      ]
     },
     "execution_count": 19,
     "metadata": {},
     "output_type": "execute_result"
    }
   ],
   "source": [
    "plot_histogram(result_q.get_counts(circuit))"
   ]
  },
  {
   "cell_type": "code",
   "execution_count": null,
   "metadata": {},
   "outputs": [],
   "source": []
  }
 ],
 "metadata": {
  "kernelspec": {
   "display_name": "Python 3",
   "language": "python",
   "name": "python3"
  },
  "language_info": {
   "codemirror_mode": {
    "name": "ipython",
    "version": 3
   },
   "file_extension": ".py",
   "mimetype": "text/x-python",
   "name": "python",
   "nbconvert_exporter": "python",
   "pygments_lexer": "ipython3",
   "version": "3.7.7"
  }
 },
 "nbformat": 4,
 "nbformat_minor": 4
}
